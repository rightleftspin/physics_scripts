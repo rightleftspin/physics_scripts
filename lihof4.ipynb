{
 "cells": [
  {
   "cell_type": "code",
   "execution_count": 1,
   "id": "c4fa45af-3d47-4688-8754-ae66a24b183c",
   "metadata": {},
   "outputs": [],
   "source": [
    "using Sunny, WGLMakie\n",
    "units = Units(:meV, :angstrom);"
   ]
  },
  {
   "cell_type": "code",
   "execution_count": 43,
   "id": "b5243106-0bdf-4f2c-ad37-397e739e0791",
   "metadata": {},
   "outputs": [
    {
     "name": "stdout",
     "output_type": "stream",
     "text": [
      "All possible allowed couplings at nearest neighbor\n",
      "[A 0 0\n",
      " 0 B D\n",
      " 0 D C]\n",
      "[B 0 D\n",
      " 0 A 0\n",
      " D 0 C]\n",
      "[ B 0 -D\n",
      "  0 A  0\n",
      " -D 0  C]\n",
      "[A  0  0\n",
      " 0  B -D\n",
      " 0 -D  C]\n"
     ]
    }
   ],
   "source": [
    "a = 5.176 # (Å)\n",
    "c = 10.75 # (Å)\n",
    "\n",
    "latvecs = lattice_vectors(a, a, c, 90, 90, 90)\n",
    "positions = [[0, 0, 1/2], [0, 1/2, 3/4], [1/2, 1/2, 0], [1/2, 0, 1/4]]\n",
    "cryst = Crystal(latvecs, positions, types=repeat([\"Ho\"], 4))\n",
    "nearest_neighbor_reference = reference_bonds(cryst, 3.8)[2]\n",
    "#print_bond(cryst, nearest_neighbor_reference)\n",
    "\n",
    "crystal_moment = Moment(s=1/2, g=2)\n",
    "sys = System(cryst, [1 => crystal_moment], :dipole, dims=(1, 1, 1))\n",
    "set_matrices = Set()\n",
    "for bond in symmetry_equivalent_bonds(sys, nearest_neighbor_reference)\n",
    "    digits = 14\n",
    "    atol = 1e-12\n",
    "    basis = Sunny.basis_for_symmetry_allowed_couplings(cryst, Bond(bond[1][4], bond[2][4], bond[3]); b_ref=nearest_neighbor_reference)\n",
    "    basis_strs = Sunny.coupling_basis_strings(zip('A':'Z', basis); digits, atol)\n",
    "    push!(set_matrices, Sunny.formatted_matrix(basis_strs, prefix=\"\"))\n",
    "    #print_bond(cryst, Bond(bond[1][4], bond[2][4], bond[3]))\n",
    "end\n",
    "#view_crystal(cryst)\n",
    "\n",
    "println(\"All possible allowed couplings at nearest neighbor\")\n",
    "for mat in set_matrices\n",
    "    println(mat)\n",
    "end"
   ]
  },
  {
   "cell_type": "code",
   "execution_count": null,
   "id": "7e043b70-e3f1-478e-a8c0-cb8587d80081",
   "metadata": {},
   "outputs": [],
   "source": []
  }
 ],
 "metadata": {
  "kernelspec": {
   "display_name": "Julia 1.10.4",
   "language": "julia",
   "name": "julia-1.10"
  },
  "language_info": {
   "file_extension": ".jl",
   "mimetype": "application/julia",
   "name": "julia",
   "version": "1.10.4"
  }
 },
 "nbformat": 4,
 "nbformat_minor": 5
}
