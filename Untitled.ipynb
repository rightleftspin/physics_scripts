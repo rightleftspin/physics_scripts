{
 "cells": [
  {
   "cell_type": "code",
   "execution_count": null,
   "id": "db3ab552-39a9-463e-afbc-d376e7921933",
   "metadata": {},
   "outputs": [],
   "source": []
  }
 ],
 "metadata": {
  "kernelspec": {
   "display_name": "",
   "name": ""
  },
  "language_info": {
   "name": ""
  }
 },
 "nbformat": 4,
 "nbformat_minor": 5
}
